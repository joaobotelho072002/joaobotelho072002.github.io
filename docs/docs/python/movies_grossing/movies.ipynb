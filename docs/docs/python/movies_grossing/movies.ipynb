{
 "cells": [
  {
   "cell_type": "markdown",
   "id": "ae7ffdca",
   "metadata": {},
   "source": [
    "# Highest Hollywood Grossing Movies\n",
    "----\n",
    "This nootebook aims to answer the following questions based on the dataset ***highest holywood grossing movies***:\n",
    "1. What is the highest-grossing film of all time? What was the gross in dollars ($)?\n",
    "2. What is the average runtime of Warner Bros.’s movies?\n",
    "3. If you were a great executive responsible for approving projects, which genre would you choose to maximize the most your profit?"
   ]
  },
  {
   "cell_type": "code",
   "execution_count": 1,
   "id": "deb86f80",
   "metadata": {
    "execution": {
     "iopub.execute_input": "2022-02-22T19:28:16.941133Z",
     "iopub.status.busy": "2022-02-22T19:28:16.940073Z",
     "iopub.status.idle": "2022-02-22T19:28:16.994566Z",
     "shell.execute_reply": "2022-02-22T19:28:16.995003Z",
     "shell.execute_reply.started": "2022-02-22T19:26:58.010063Z"
    },
    "papermill": {
     "duration": 0.069606,
     "end_time": "2022-02-22T19:28:16.995198",
     "exception": false,
     "start_time": "2022-02-22T19:28:16.925592",
     "status": "completed"
    },
    "tags": []
   },
   "outputs": [
    {
     "ename": "TypeError",
     "evalue": "required field \"type_ignores\" missing from Module",
     "output_type": "error",
     "traceback": [
      "\u001b[0;31m---------------------------------------------------------------------------\u001b[0m",
      "\u001b[0;31mTypeError\u001b[0m                                 Traceback (most recent call last)",
      "\u001b[0;32m/usr/local/Cellar/python@3.9/3.9.13_2/Frameworks/Python.framework/Versions/3.9/lib/python3.9/codeop.py\u001b[0m in \u001b[0;36m__call__\u001b[0;34m(self, source, filename, symbol)\u001b[0m\n\u001b[1;32m    141\u001b[0m \u001b[0;34m\u001b[0m\u001b[0m\n\u001b[1;32m    142\u001b[0m     \u001b[0;32mdef\u001b[0m \u001b[0m__call__\u001b[0m\u001b[0;34m(\u001b[0m\u001b[0mself\u001b[0m\u001b[0;34m,\u001b[0m \u001b[0msource\u001b[0m\u001b[0;34m,\u001b[0m \u001b[0mfilename\u001b[0m\u001b[0;34m,\u001b[0m \u001b[0msymbol\u001b[0m\u001b[0;34m)\u001b[0m\u001b[0;34m:\u001b[0m\u001b[0;34m\u001b[0m\u001b[0;34m\u001b[0m\u001b[0m\n\u001b[0;32m--> 143\u001b[0;31m         \u001b[0mcodeob\u001b[0m \u001b[0;34m=\u001b[0m \u001b[0mcompile\u001b[0m\u001b[0;34m(\u001b[0m\u001b[0msource\u001b[0m\u001b[0;34m,\u001b[0m \u001b[0mfilename\u001b[0m\u001b[0;34m,\u001b[0m \u001b[0msymbol\u001b[0m\u001b[0;34m,\u001b[0m \u001b[0mself\u001b[0m\u001b[0;34m.\u001b[0m\u001b[0mflags\u001b[0m\u001b[0;34m,\u001b[0m \u001b[0;32mTrue\u001b[0m\u001b[0;34m)\u001b[0m\u001b[0;34m\u001b[0m\u001b[0;34m\u001b[0m\u001b[0m\n\u001b[0m\u001b[1;32m    144\u001b[0m         \u001b[0;32mfor\u001b[0m \u001b[0mfeature\u001b[0m \u001b[0;32min\u001b[0m \u001b[0m_features\u001b[0m\u001b[0;34m:\u001b[0m\u001b[0;34m\u001b[0m\u001b[0;34m\u001b[0m\u001b[0m\n\u001b[1;32m    145\u001b[0m             \u001b[0;32mif\u001b[0m \u001b[0mcodeob\u001b[0m\u001b[0;34m.\u001b[0m\u001b[0mco_flags\u001b[0m \u001b[0;34m&\u001b[0m \u001b[0mfeature\u001b[0m\u001b[0;34m.\u001b[0m\u001b[0mcompiler_flag\u001b[0m\u001b[0;34m:\u001b[0m\u001b[0;34m\u001b[0m\u001b[0;34m\u001b[0m\u001b[0m\n",
      "\u001b[0;31mTypeError\u001b[0m: required field \"type_ignores\" missing from Module"
     ]
    }
   ],
   "source": [
    "import numpy as np # linear algebra\n",
    "import pandas as pd # data processing, CSV file I/O (e.g. pd.read_csv)\n",
    "import matplotlib.pyplot as plt\n",
    "import seaborn as sns\n",
    "\n",
    "data = pd.read_csv('highest_holywood_grossing_movies.csv')\n",
    "data.info()"
   ]
  },
  {
   "cell_type": "markdown",
   "id": "8f7c5406",
   "metadata": {},
   "source": [
    "#### First Question\n",
    "----"
   ]
  },
  {
   "cell_type": "code",
   "execution_count": null,
   "id": "761caeb4",
   "metadata": {
    "execution": {
     "iopub.execute_input": "2022-02-22T19:28:17.022718Z",
     "iopub.status.busy": "2022-02-22T19:28:17.021640Z",
     "iopub.status.idle": "2022-02-22T19:28:17.044920Z",
     "shell.execute_reply": "2022-02-22T19:28:17.045372Z",
     "shell.execute_reply.started": "2022-02-22T19:26:58.042624Z"
    },
    "papermill": {
     "duration": 0.038759,
     "end_time": "2022-02-22T19:28:17.045574",
     "exception": false,
     "start_time": "2022-02-22T19:28:17.006815",
     "status": "completed"
    },
    "tags": []
   },
   "outputs": [
    {
     "data": {
      "text/html": [
       "<div>\n",
       "<style scoped>\n",
       "    .dataframe tbody tr th:only-of-type {\n",
       "        vertical-align: middle;\n",
       "    }\n",
       "\n",
       "    .dataframe tbody tr th {\n",
       "        vertical-align: top;\n",
       "    }\n",
       "\n",
       "    .dataframe thead th {\n",
       "        text-align: right;\n",
       "    }\n",
       "</style>\n",
       "<table border=\"1\" class=\"dataframe\">\n",
       "  <thead>\n",
       "    <tr style=\"text-align: right;\">\n",
       "      <th></th>\n",
       "      <th>Unnamed: 0</th>\n",
       "      <th>Title</th>\n",
       "      <th>Movie Info</th>\n",
       "      <th>Distributor</th>\n",
       "      <th>Release Date</th>\n",
       "      <th>Domestic Sales (in $)</th>\n",
       "      <th>International Sales (in $)</th>\n",
       "      <th>World Sales (in $)</th>\n",
       "      <th>Genre</th>\n",
       "      <th>Movie Runtime</th>\n",
       "      <th>License</th>\n",
       "    </tr>\n",
       "  </thead>\n",
       "  <tbody>\n",
       "    <tr>\n",
       "      <th>2</th>\n",
       "      <td>2</td>\n",
       "      <td>Avatar (2009)</td>\n",
       "      <td>A paraplegic Marine dispatched to the moon Pan...</td>\n",
       "      <td>Twentieth Century Fox</td>\n",
       "      <td>December 16, 2009</td>\n",
       "      <td>760507625</td>\n",
       "      <td>2086738578</td>\n",
       "      <td>2847246203</td>\n",
       "      <td>['Action', 'Adventure', 'Fantasy', 'Sci-Fi']</td>\n",
       "      <td>2 hr 42 min</td>\n",
       "      <td>PG-13</td>\n",
       "    </tr>\n",
       "    <tr>\n",
       "      <th>1</th>\n",
       "      <td>1</td>\n",
       "      <td>Avengers: Endgame (2019)</td>\n",
       "      <td>After the devastating events of Avengers: Infi...</td>\n",
       "      <td>Walt Disney Studios Motion Pictures</td>\n",
       "      <td>April 24, 2019</td>\n",
       "      <td>858373000</td>\n",
       "      <td>1939128328</td>\n",
       "      <td>2797501328</td>\n",
       "      <td>['Action', 'Adventure', 'Drama', 'Sci-Fi']</td>\n",
       "      <td>3 hr 1 min</td>\n",
       "      <td>PG-13</td>\n",
       "    </tr>\n",
       "    <tr>\n",
       "      <th>6</th>\n",
       "      <td>6</td>\n",
       "      <td>Titanic (1997)</td>\n",
       "      <td>A seventeen-year-old aristocrat falls in love ...</td>\n",
       "      <td>Paramount Pictures</td>\n",
       "      <td>December 19, 1997</td>\n",
       "      <td>659363944</td>\n",
       "      <td>1542283320</td>\n",
       "      <td>2201647264</td>\n",
       "      <td>['Drama', 'Romance']</td>\n",
       "      <td>3 hr 14 min</td>\n",
       "      <td>PG-13</td>\n",
       "    </tr>\n",
       "  </tbody>\n",
       "</table>\n",
       "</div>"
      ],
      "text/plain": [
       "   Unnamed: 0                     Title  \\\n",
       "2           2             Avatar (2009)   \n",
       "1           1  Avengers: Endgame (2019)   \n",
       "6           6            Titanic (1997)   \n",
       "\n",
       "                                          Movie Info  \\\n",
       "2  A paraplegic Marine dispatched to the moon Pan...   \n",
       "1  After the devastating events of Avengers: Infi...   \n",
       "6  A seventeen-year-old aristocrat falls in love ...   \n",
       "\n",
       "                           Distributor       Release Date  \\\n",
       "2                Twentieth Century Fox  December 16, 2009   \n",
       "1  Walt Disney Studios Motion Pictures     April 24, 2019   \n",
       "6                   Paramount Pictures  December 19, 1997   \n",
       "\n",
       "   Domestic Sales (in $)  International Sales (in $)  World Sales (in $)  \\\n",
       "2              760507625                  2086738578          2847246203   \n",
       "1              858373000                  1939128328          2797501328   \n",
       "6              659363944                  1542283320          2201647264   \n",
       "\n",
       "                                          Genre Movie Runtime License  \n",
       "2  ['Action', 'Adventure', 'Fantasy', 'Sci-Fi']   2 hr 42 min   PG-13  \n",
       "1    ['Action', 'Adventure', 'Drama', 'Sci-Fi']    3 hr 1 min   PG-13  \n",
       "6                          ['Drama', 'Romance']   3 hr 14 min   PG-13  "
      ]
     },
     "execution_count": 3,
     "metadata": {},
     "output_type": "execute_result"
    }
   ],
   "source": [
    "sort_by_grossing = data.sort_values(['World Sales (in $)'],ascending=False)\n",
    "sort_by_grossing.head(3)"
   ]
  },
  {
   "cell_type": "markdown",
   "id": "20bb50e2",
   "metadata": {},
   "source": [
    "#### Second Question\n",
    "----"
   ]
  },
  {
   "cell_type": "code",
   "execution_count": 4,
   "id": "a4f4ccec",
   "metadata": {
    "execution": {
     "iopub.execute_input": "2022-02-22T19:28:17.078334Z",
     "iopub.status.busy": "2022-02-22T19:28:17.077211Z",
     "iopub.status.idle": "2022-02-22T19:28:17.079136Z",
     "shell.execute_reply": "2022-02-22T19:28:17.079714Z",
     "shell.execute_reply.started": "2022-02-22T19:26:58.059606Z"
    },
    "papermill": {
     "duration": 0.022176,
     "end_time": "2022-02-22T19:28:17.079897",
     "exception": false,
     "start_time": "2022-02-22T19:28:17.057721",
     "status": "completed"
    },
    "tags": []
   },
   "outputs": [],
   "source": [
    "#data treatment -> total minutes\n",
    "def time_conv(time: str):\n",
    "    # Convert runtimes to minute\n",
    "    time = time.split(' ')\n",
    "    length = len(time)\n",
    "\n",
    "    if length == 4:\n",
    "        hour, minute = int(time[0]), int(time[2])\n",
    "        return hour*60 + minute\n",
    "    elif length == 2:\n",
    "        minute = int(time[0])\n",
    "        return minute*60"
   ]
  },
  {
   "cell_type": "code",
   "execution_count": 5,
   "id": "9f28dee8",
   "metadata": {
    "execution": {
     "iopub.execute_input": "2022-02-22T19:28:17.110690Z",
     "iopub.status.busy": "2022-02-22T19:28:17.109665Z",
     "iopub.status.idle": "2022-02-22T19:28:17.126502Z",
     "shell.execute_reply": "2022-02-22T19:28:17.127101Z",
     "shell.execute_reply.started": "2022-02-22T19:26:58.066371Z"
    },
    "papermill": {
     "duration": 0.035382,
     "end_time": "2022-02-22T19:28:17.127285",
     "exception": false,
     "start_time": "2022-02-22T19:28:17.091903",
     "status": "completed"
    },
    "tags": []
   },
   "outputs": [
    {
     "data": {
      "text/html": [
       "<div>\n",
       "<style scoped>\n",
       "    .dataframe tbody tr th:only-of-type {\n",
       "        vertical-align: middle;\n",
       "    }\n",
       "\n",
       "    .dataframe tbody tr th {\n",
       "        vertical-align: top;\n",
       "    }\n",
       "\n",
       "    .dataframe thead th {\n",
       "        text-align: right;\n",
       "    }\n",
       "</style>\n",
       "<table border=\"1\" class=\"dataframe\">\n",
       "  <thead>\n",
       "    <tr style=\"text-align: right;\">\n",
       "      <th></th>\n",
       "      <th>Unnamed: 0</th>\n",
       "      <th>Title</th>\n",
       "      <th>Movie Info</th>\n",
       "      <th>Distributor</th>\n",
       "      <th>Release Date</th>\n",
       "      <th>Domestic Sales (in $)</th>\n",
       "      <th>International Sales (in $)</th>\n",
       "      <th>World Sales (in $)</th>\n",
       "      <th>Genre</th>\n",
       "      <th>Movie Runtime</th>\n",
       "      <th>License</th>\n",
       "    </tr>\n",
       "  </thead>\n",
       "  <tbody>\n",
       "    <tr>\n",
       "      <th>0</th>\n",
       "      <td>0</td>\n",
       "      <td>Star Wars: Episode VII - The Force Awakens (2015)</td>\n",
       "      <td>As a new threat to the galaxy rises, Rey, a de...</td>\n",
       "      <td>Walt Disney Studios Motion Pictures</td>\n",
       "      <td>December 16, 2015</td>\n",
       "      <td>936662225</td>\n",
       "      <td>1132859475</td>\n",
       "      <td>2069521700</td>\n",
       "      <td>['Action', 'Adventure', 'Sci-Fi']</td>\n",
       "      <td>138</td>\n",
       "      <td>PG-13</td>\n",
       "    </tr>\n",
       "    <tr>\n",
       "      <th>1</th>\n",
       "      <td>1</td>\n",
       "      <td>Avengers: Endgame (2019)</td>\n",
       "      <td>After the devastating events of Avengers: Infi...</td>\n",
       "      <td>Walt Disney Studios Motion Pictures</td>\n",
       "      <td>April 24, 2019</td>\n",
       "      <td>858373000</td>\n",
       "      <td>1939128328</td>\n",
       "      <td>2797501328</td>\n",
       "      <td>['Action', 'Adventure', 'Drama', 'Sci-Fi']</td>\n",
       "      <td>181</td>\n",
       "      <td>PG-13</td>\n",
       "    </tr>\n",
       "    <tr>\n",
       "      <th>2</th>\n",
       "      <td>2</td>\n",
       "      <td>Avatar (2009)</td>\n",
       "      <td>A paraplegic Marine dispatched to the moon Pan...</td>\n",
       "      <td>Twentieth Century Fox</td>\n",
       "      <td>December 16, 2009</td>\n",
       "      <td>760507625</td>\n",
       "      <td>2086738578</td>\n",
       "      <td>2847246203</td>\n",
       "      <td>['Action', 'Adventure', 'Fantasy', 'Sci-Fi']</td>\n",
       "      <td>162</td>\n",
       "      <td>PG-13</td>\n",
       "    </tr>\n",
       "  </tbody>\n",
       "</table>\n",
       "</div>"
      ],
      "text/plain": [
       "   Unnamed: 0                                              Title  \\\n",
       "0           0  Star Wars: Episode VII - The Force Awakens (2015)   \n",
       "1           1                           Avengers: Endgame (2019)   \n",
       "2           2                                      Avatar (2009)   \n",
       "\n",
       "                                          Movie Info  \\\n",
       "0  As a new threat to the galaxy rises, Rey, a de...   \n",
       "1  After the devastating events of Avengers: Infi...   \n",
       "2  A paraplegic Marine dispatched to the moon Pan...   \n",
       "\n",
       "                           Distributor       Release Date  \\\n",
       "0  Walt Disney Studios Motion Pictures  December 16, 2015   \n",
       "1  Walt Disney Studios Motion Pictures     April 24, 2019   \n",
       "2                Twentieth Century Fox  December 16, 2009   \n",
       "\n",
       "   Domestic Sales (in $)  International Sales (in $)  World Sales (in $)  \\\n",
       "0              936662225                  1132859475          2069521700   \n",
       "1              858373000                  1939128328          2797501328   \n",
       "2              760507625                  2086738578          2847246203   \n",
       "\n",
       "                                          Genre  Movie Runtime License  \n",
       "0             ['Action', 'Adventure', 'Sci-Fi']            138   PG-13  \n",
       "1    ['Action', 'Adventure', 'Drama', 'Sci-Fi']            181   PG-13  \n",
       "2  ['Action', 'Adventure', 'Fantasy', 'Sci-Fi']            162   PG-13  "
      ]
     },
     "execution_count": 5,
     "metadata": {},
     "output_type": "execute_result"
    }
   ],
   "source": [
    "#Converting string runtime into minutes\n",
    "data[\"Movie Runtime\"] = data[\"Movie Runtime\"].apply(time_conv)\n",
    "data.head(3)"
   ]
  },
  {
   "cell_type": "code",
   "execution_count": 6,
   "id": "c8e92288",
   "metadata": {
    "execution": {
     "iopub.execute_input": "2022-02-22T19:28:17.156801Z",
     "iopub.status.busy": "2022-02-22T19:28:17.155795Z",
     "iopub.status.idle": "2022-02-22T19:28:17.164102Z",
     "shell.execute_reply": "2022-02-22T19:28:17.164584Z",
     "shell.execute_reply.started": "2022-02-22T19:26:58.091584Z"
    },
    "papermill": {
     "duration": 0.024716,
     "end_time": "2022-02-22T19:28:17.164775",
     "exception": false,
     "start_time": "2022-02-22T19:28:17.140059",
     "status": "completed"
    },
    "tags": []
   },
   "outputs": [
    {
     "name": "stdout",
     "output_type": "stream",
     "text": [
      "Total movies:\n",
      "\n",
      "158\n"
     ]
    }
   ],
   "source": [
    "#Counting warner bros movies \n",
    "warner_bros_movies = data[data['Distributor']==\"Warner Bros.\"]\n",
    "print(\"Total movies:\\n\")\n",
    "print(warner_bros_movies[\"Distributor\"].count())\n",
    "total_movies = warner_bros_movies[\"Distributor\"].count()"
   ]
  },
  {
   "cell_type": "code",
   "execution_count": 7,
   "id": "ccd20af8",
   "metadata": {
    "execution": {
     "iopub.execute_input": "2022-02-22T19:28:17.196389Z",
     "iopub.status.busy": "2022-02-22T19:28:17.195337Z",
     "iopub.status.idle": "2022-02-22T19:28:17.201227Z",
     "shell.execute_reply": "2022-02-22T19:28:17.201782Z",
     "shell.execute_reply.started": "2022-02-22T19:26:58.101270Z"
    },
    "papermill": {
     "duration": 0.024322,
     "end_time": "2022-02-22T19:28:17.202007",
     "exception": false,
     "start_time": "2022-02-22T19:28:17.177685",
     "status": "completed"
    },
    "tags": []
   },
   "outputs": [
    {
     "name": "stdout",
     "output_type": "stream",
     "text": [
      "Total time(in minutes):\n",
      "\n",
      "19360\n"
     ]
    }
   ],
   "source": [
    "#Sum duration time in minutes from warner bros movies\n",
    "total_duration_minutes = warner_bros_movies[\"Movie Runtime\"].sum()\n",
    "print(\"Total time(in minutes):\\n\")\n",
    "print(total_duration_minutes)"
   ]
  },
  {
   "cell_type": "code",
   "execution_count": 8,
   "id": "6fa0015f",
   "metadata": {
    "execution": {
     "iopub.execute_input": "2022-02-22T19:28:17.235539Z",
     "iopub.status.busy": "2022-02-22T19:28:17.234825Z",
     "iopub.status.idle": "2022-02-22T19:28:17.237560Z",
     "shell.execute_reply": "2022-02-22T19:28:17.238036Z",
     "shell.execute_reply.started": "2022-02-22T19:26:58.110704Z"
    },
    "papermill": {
     "duration": 0.02275,
     "end_time": "2022-02-22T19:28:17.238222",
     "exception": false,
     "start_time": "2022-02-22T19:28:17.215472",
     "status": "completed"
    },
    "tags": []
   },
   "outputs": [
    {
     "name": "stdout",
     "output_type": "stream",
     "text": [
      "Warner Bros.'s movies average time:\n",
      "\n",
      "2 Hours 02 minutes\n"
     ]
    }
   ],
   "source": [
    "#Calculating average time in minutes\n",
    "time_average = total_duration_minutes/total_movies\n",
    "#print(time_average)\n",
    "hours = time_average//60\n",
    "minutes = time_average % 60\n",
    "# seconds = time_average * 60\n",
    "\n",
    "print(\"Warner Bros.'s movies average time:\\n\")\n",
    "print(\"%d Hours %02d minutes\" % (hours, minutes))"
   ]
  },
  {
   "cell_type": "markdown",
   "id": "27fb1fd9",
   "metadata": {},
   "source": [
    "#### Third Question\n",
    "----"
   ]
  },
  {
   "cell_type": "code",
   "execution_count": 9,
   "id": "6dae07ed",
   "metadata": {
    "execution": {
     "iopub.execute_input": "2022-02-22T19:28:17.271886Z",
     "iopub.status.busy": "2022-02-22T19:28:17.271216Z",
     "iopub.status.idle": "2022-02-22T19:28:17.274286Z",
     "shell.execute_reply": "2022-02-22T19:28:17.273687Z",
     "shell.execute_reply.started": "2022-02-22T19:26:58.124618Z"
    },
    "papermill": {
     "duration": 0.022524,
     "end_time": "2022-02-22T19:28:17.274450",
     "exception": false,
     "start_time": "2022-02-22T19:28:17.251926",
     "status": "completed"
    },
    "tags": []
   },
   "outputs": [],
   "source": [
    "gb_genre = data.groupby('Genre')"
   ]
  },
  {
   "cell_type": "code",
   "execution_count": 10,
   "id": "fb224f30",
   "metadata": {
    "execution": {
     "iopub.execute_input": "2022-02-22T19:28:17.311439Z",
     "iopub.status.busy": "2022-02-22T19:28:17.310008Z",
     "iopub.status.idle": "2022-02-22T19:28:17.317126Z",
     "shell.execute_reply": "2022-02-22T19:28:17.317649Z",
     "shell.execute_reply.started": "2022-02-22T19:26:58.180498Z"
    },
    "papermill": {
     "duration": 0.029554,
     "end_time": "2022-02-22T19:28:17.317873",
     "exception": false,
     "start_time": "2022-02-22T19:28:17.288319",
     "status": "completed"
    },
    "tags": []
   },
   "outputs": [],
   "source": [
    "most_sales_genre = gb_genre.sum().sort_values('World Sales (in $)', ascending=False)[:10]"
   ]
  },
  {
   "cell_type": "code",
   "execution_count": 11,
   "id": "9c177b38",
   "metadata": {
    "execution": {
     "iopub.execute_input": "2022-02-22T19:28:17.357170Z",
     "iopub.status.busy": "2022-02-22T19:28:17.353955Z",
     "iopub.status.idle": "2022-02-22T19:28:17.628153Z",
     "shell.execute_reply": "2022-02-22T19:28:17.627419Z",
     "shell.execute_reply.started": "2022-02-22T19:26:58.192783Z"
    },
    "papermill": {
     "duration": 0.296118,
     "end_time": "2022-02-22T19:28:17.628306",
     "exception": false,
     "start_time": "2022-02-22T19:28:17.332188",
     "status": "completed"
    },
    "tags": []
   },
   "outputs": [
    {
     "data": {
      "image/png": "[encoded data removed]",
      "text/plain": [
       "<Figure size 720x792 with 1 Axes>"
      ]
     },
     "metadata": {
      "needs_background": "light"
     },
     "output_type": "display_data"
    }
   ],
   "source": [
    "fig, ax = plt.subplots(figsize=(10, 11))\n",
    "\n",
    "sns.set_theme(palette='Set2')\n",
    "sns.barplot(ax=ax, x=most_sales_genre['World Sales (in $)'], y=most_sales_genre.index)\n",
    "\n",
    "ax.set_title('Top 10 Genres by World Sales', fontsize=20, pad=10)\n",
    "ax.set_xlabel('World Sales', fontdict={'fontsize': 13}, labelpad=10)\n",
    "ax.set_ylabel('Genres', fontdict={'fontsize': 13}, labelpad=10)\n",
    "ax.xaxis.set_major_formatter(lambda x, pos: f'{int(x)/1_000_000_000}B')\n",
    "\n",
    "plt.show()"
   ]
  },
  {
   "cell_type": "code",
   "execution_count": 12,
   "id": "6f7f62bf",
   "metadata": {
    "execution": {
     "iopub.execute_input": "2022-02-22T19:28:17.674403Z",
     "iopub.status.busy": "2022-02-22T19:28:17.673682Z",
     "iopub.status.idle": "2022-02-22T19:28:17.676523Z",
     "shell.execute_reply": "2022-02-22T19:28:17.676975Z",
     "shell.execute_reply.started": "2022-02-22T19:26:58.464525Z"
    },
    "papermill": {
     "duration": 0.033601,
     "end_time": "2022-02-22T19:28:17.677164",
     "exception": false,
     "start_time": "2022-02-22T19:28:17.643563",
     "status": "completed"
    },
    "tags": []
   },
   "outputs": [
    {
     "data": {
      "text/html": [
       "<div>\n",
       "<style scoped>\n",
       "    .dataframe tbody tr th:only-of-type {\n",
       "        vertical-align: middle;\n",
       "    }\n",
       "\n",
       "    .dataframe tbody tr th {\n",
       "        vertical-align: top;\n",
       "    }\n",
       "\n",
       "    .dataframe thead th {\n",
       "        text-align: right;\n",
       "    }\n",
       "</style>\n",
       "<table border=\"1\" class=\"dataframe\">\n",
       "  <thead>\n",
       "    <tr style=\"text-align: right;\">\n",
       "      <th></th>\n",
       "      <th>Unnamed: 0</th>\n",
       "      <th>Title</th>\n",
       "      <th>Movie Info</th>\n",
       "      <th>Distributor</th>\n",
       "      <th>Release Date</th>\n",
       "      <th>Domestic Sales (in $)</th>\n",
       "      <th>International Sales (in $)</th>\n",
       "      <th>World Sales (in $)</th>\n",
       "      <th>Genre</th>\n",
       "      <th>Movie Runtime</th>\n",
       "      <th>License</th>\n",
       "    </tr>\n",
       "  </thead>\n",
       "  <tbody>\n",
       "    <tr>\n",
       "      <th>42</th>\n",
       "      <td>42</td>\n",
       "      <td>Harry Potter and the Deathly Hallows: Part 2 (...</td>\n",
       "      <td>Harry, Ron, and Hermione search for Voldemort'...</td>\n",
       "      <td>Warner Bros.</td>\n",
       "      <td>NaN</td>\n",
       "      <td>381409310</td>\n",
       "      <td>960912354</td>\n",
       "      <td>1342321665</td>\n",
       "      <td>['Adventure', 'Fantasy', 'Mystery']</td>\n",
       "      <td>130</td>\n",
       "      <td>NaN</td>\n",
       "    </tr>\n",
       "    <tr>\n",
       "      <th>63</th>\n",
       "      <td>63</td>\n",
       "      <td>Aquaman (2018)</td>\n",
       "      <td>Arthur Curry, the human-born heir to the under...</td>\n",
       "      <td>Warner Bros.</td>\n",
       "      <td>NaN</td>\n",
       "      <td>335061807</td>\n",
       "      <td>813424079</td>\n",
       "      <td>1148485886</td>\n",
       "      <td>['Action', 'Adventure', 'Fantasy', 'Sci-Fi']</td>\n",
       "      <td>143</td>\n",
       "      <td>NaN</td>\n",
       "    </tr>\n",
       "    <tr>\n",
       "      <th>21</th>\n",
       "      <td>21</td>\n",
       "      <td>The Dark Knight Rises (2012)</td>\n",
       "      <td>Eight years after the Joker's reign of anarchy...</td>\n",
       "      <td>Warner Bros.</td>\n",
       "      <td>July 19, 2012</td>\n",
       "      <td>448139099</td>\n",
       "      <td>633003513</td>\n",
       "      <td>1081142612</td>\n",
       "      <td>['Action', 'Crime', 'Drama']</td>\n",
       "      <td>164</td>\n",
       "      <td>PG-13</td>\n",
       "    </tr>\n",
       "  </tbody>\n",
       "</table>\n",
       "</div>"
      ],
      "text/plain": [
       "    Unnamed: 0                                              Title  \\\n",
       "42          42  Harry Potter and the Deathly Hallows: Part 2 (...   \n",
       "63          63                                     Aquaman (2018)   \n",
       "21          21                       The Dark Knight Rises (2012)   \n",
       "\n",
       "                                           Movie Info   Distributor  \\\n",
       "42  Harry, Ron, and Hermione search for Voldemort'...  Warner Bros.   \n",
       "63  Arthur Curry, the human-born heir to the under...  Warner Bros.   \n",
       "21  Eight years after the Joker's reign of anarchy...  Warner Bros.   \n",
       "\n",
       "     Release Date  Domestic Sales (in $)  International Sales (in $)  \\\n",
       "42            NaN              381409310                   960912354   \n",
       "63            NaN              335061807                   813424079   \n",
       "21  July 19, 2012              448139099                   633003513   \n",
       "\n",
       "    World Sales (in $)                                         Genre  \\\n",
       "42          1342321665           ['Adventure', 'Fantasy', 'Mystery']   \n",
       "63          1148485886  ['Action', 'Adventure', 'Fantasy', 'Sci-Fi']   \n",
       "21          1081142612                  ['Action', 'Crime', 'Drama']   \n",
       "\n",
       "    Movie Runtime License  \n",
       "42            130     NaN  \n",
       "63            143     NaN  \n",
       "21            164   PG-13  "
      ]
     },
     "execution_count": 12,
     "metadata": {},
     "output_type": "execute_result"
    }
   ],
   "source": [
    "top_warner_world_sales = warner_bros_movies.sort_values('World Sales (in $)', ascending=False)\n",
    "top_warner_world_sales.head(3)"
   ]
  }
 ],
 "metadata": {
  "kernelspec": {
   "display_name": "Python 3.9.13 64-bit",
   "language": "python",
   "name": "python3"
  },
  "language_info": {
   "codemirror_mode": {
    "name": "ipython",
    "version": 3
   },
   "file_extension": ".py",
   "mimetype": "text/x-python",
   "name": "python",
   "nbconvert_exporter": "python",
   "pygments_lexer": "ipython3",
   "version": "3.9.13"
  },
  "papermill": {
   "default_parameters": {},
   "duration": 12.564478,
   "end_time": "2022-02-22T19:28:18.636916",
   "environment_variables": {},
   "exception": null,
   "input_path": "__notebook__.ipynb",
   "output_path": "__notebook__.ipynb",
   "parameters": {},
   "start_time": "2022-02-22T19:28:06.072438",
   "version": "2.3.3"
  },
  "vscode": {
   "interpreter": {
    "hash": "aee8b7b246df8f9039afb4144a1f6fd8d2ca17a180786b69acc140d282b71a49"
   }
  }
 },
 "nbformat": 4,
 "nbformat_minor": 5
}
