{
 "cells": [
  {
   "cell_type": "markdown",
   "id": "86169f25",
   "metadata": {},
   "source": [
    "# Classification\n",
    "<p> With different types of Algorithms</p>"
   ]
  },
  {
   "cell_type": "code",
   "execution_count": 1,
   "id": "845c9ed2",
   "metadata": {},
   "outputs": [],
   "source": [
    "from sklearn.datasets import load_iris\n",
    "\n",
    "iris = load_iris()\n",
    "\n",
    "X, y = iris.data, iris.target"
   ]
  },
  {
   "cell_type": "code",
   "execution_count": 2,
   "id": "16559090",
   "metadata": {},
   "outputs": [
    {
     "name": "stdout",
     "output_type": "stream",
     "text": [
      "[4.9 3.  1.4 0.2]\n"
     ]
    }
   ],
   "source": [
    "print(X[1])"
   ]
  },
  {
   "cell_type": "code",
   "execution_count": 3,
   "id": "676c24ae",
   "metadata": {},
   "outputs": [
    {
     "name": "stdout",
     "output_type": "stream",
     "text": [
      "[0 0 0 0 0 0 0 0 0 0 0 0 0 0 0 0 0 0 0 0 0 0 0 0 0 0 0 0 0 0 0 0 0 0 0 0 0\n",
      " 0 0 0 0 0 0 0 0 0 0 0 0 0 1 1 1 1 1 1 1 1 1 1 1 1 1 1 1 1 1 1 1 1 1 1 1 1\n",
      " 1 1 1 1 1 1 1 1 1 1 1 1 1 1 1 1 1 1 1 1 1 1 1 1 1 1 2 2 2 2 2 2 2 2 2 2 2\n",
      " 2 2 2 2 2 2 2 2 2 2 2 2 2 2 2 2 2 2 2 2 2 2 2 2 2 2 2 2 2 2 2 2 2 2 2 2 2\n",
      " 2 2]\n"
     ]
    }
   ],
   "source": [
    "print(y)"
   ]
  },
  {
   "cell_type": "code",
   "execution_count": 4,
   "id": "344b1445",
   "metadata": {},
   "outputs": [],
   "source": [
    "results = {}"
   ]
  },
  {
   "cell_type": "markdown",
   "id": "769241d9",
   "metadata": {},
   "source": [
    "## DecisionTree\n",
    "<p>However scikit-learn implementation does not support categorical variables for now</p>"
   ]
  },
  {
   "cell_type": "code",
   "execution_count": 5,
   "id": "88c43d9d",
   "metadata": {},
   "outputs": [],
   "source": [
    "#https://scikit-learn.org/stable/modules/tree.html\n",
    "#https://scikit-learn.org/stable/modules/generated/sklearn.tree.DecisionTreeClassifier.html#sklearn.tree.DecisionTreeClassifier"
   ]
  },
  {
   "cell_type": "code",
   "execution_count": 6,
   "id": "49415a88",
   "metadata": {},
   "outputs": [],
   "source": [
    "#However scikit-learn implementation does not support categorical variables for now\n",
    "from sklearn.tree import DecisionTreeClassifier\n",
    "\n",
    "clf_tree = DecisionTreeClassifier(random_state=0)"
   ]
  },
  {
   "cell_type": "code",
   "execution_count": 7,
   "id": "23cd8c6f",
   "metadata": {},
   "outputs": [
    {
     "data": {
      "text/plain": [
       "array([0.97996313, 0.9398894 , 0.97998268])"
      ]
     },
     "execution_count": 7,
     "metadata": {},
     "output_type": "execute_result"
    }
   ],
   "source": [
    "#https://scikit-learn.org/stable/modules/generated/sklearn.model_selection.cross_validate.html#sklearn.model_selection.cross_validate\n",
    "#https://scikit-learn.org/stable/modules/model_evaluation.html#scoring-parameter\n",
    "from sklearn.model_selection import cross_val_score\n",
    "\n",
    "##default = accuracy\n",
    "scores = cross_val_score(clf_tree, X, y, cv=3, scoring='f1_weighted')\n",
    "scores"
   ]
  },
  {
   "cell_type": "code",
   "execution_count": 8,
   "id": "bbe34968",
   "metadata": {},
   "outputs": [],
   "source": [
    "import numpy as np\n",
    "\n",
    "results[\"tree\"] = np.mean(scores)"
   ]
  },
  {
   "cell_type": "code",
   "execution_count": 9,
   "id": "ff184a79",
   "metadata": {},
   "outputs": [],
   "source": [
    "#https://scikit-learn.org/stable/modules/generated/sklearn.model_selection.cross_validate.html#sklearn.model_selection.cross_validate\n",
    "from sklearn.model_selection import cross_validate\n",
    "\n",
    "scores = cross_validate(clf_tree, X, y, cv=3, scoring=('f1_weighted', 'precision_weighted', 'recall_weighted'), return_train_score=True)"
   ]
  },
  {
   "cell_type": "code",
   "execution_count": 10,
   "id": "67d9e467",
   "metadata": {},
   "outputs": [
    {
     "name": "stdout",
     "output_type": "stream",
     "text": [
      "test_f1_weighted\n",
      "0.9666117395149653 [0.97996313 0.9398894  0.97998268]\n",
      "\n",
      "test_precision_weighted\n",
      "0.9677037037037038 [0.98111111 0.94088889 0.98111111]\n",
      "\n",
      "test_recall_weighted\n",
      "0.9666666666666667 [0.98 0.94 0.98]\n"
     ]
    }
   ],
   "source": [
    "print('test_f1_weighted')\n",
    "print(np.mean(scores['test_f1_weighted']),scores['test_f1_weighted'])\n",
    "print()\n",
    "\n",
    "print('test_precision_weighted')\n",
    "print(np.mean(scores['test_precision_weighted']),scores['test_precision_weighted'])\n",
    "print()\n",
    "\n",
    "print('test_recall_weighted')\n",
    "print(np.mean(scores['test_recall_weighted']),scores['test_recall_weighted'])"
   ]
  },
  {
   "cell_type": "code",
   "execution_count": 11,
   "id": "ec24dfec",
   "metadata": {},
   "outputs": [
    {
     "name": "stdout",
     "output_type": "stream",
     "text": [
      "train_f1_weighted\n",
      "1.0 [1. 1. 1.]\n",
      "train_precision_weighted\n",
      "1.0 [1. 1. 1.]\n",
      "train_recall_weighted\n",
      "1.0 [1. 1. 1.]\n"
     ]
    }
   ],
   "source": [
    "print('train_f1_weighted')\n",
    "print(np.mean(scores['train_f1_weighted']),scores['train_f1_weighted'])\n",
    "\n",
    "print('train_precision_weighted')\n",
    "print(np.mean(scores['train_precision_weighted']),scores['train_precision_weighted'])\n",
    "\n",
    "print('train_recall_weighted')\n",
    "print(np.mean(scores['train_recall_weighted']),scores['train_recall_weighted'])"
   ]
  },
  {
   "cell_type": "code",
   "execution_count": 12,
   "id": "ddf6e4f5",
   "metadata": {},
   "outputs": [],
   "source": [
    "model_trees = clf_tree.fit(X, y)"
   ]
  },
  {
   "cell_type": "code",
   "execution_count": 13,
   "id": "3502ce5d",
   "metadata": {},
   "outputs": [
    {
     "data": {
      "text/plain": [
       "array([2])"
      ]
     },
     "execution_count": 13,
     "metadata": {},
     "output_type": "execute_result"
    }
   ],
   "source": [
    "model_trees.predict([[2., 2., 3., 3.]])"
   ]
  },
  {
   "cell_type": "code",
   "execution_count": 14,
   "id": "58fa310c",
   "metadata": {},
   "outputs": [
    {
     "data": {
      "text/plain": [
       "array([[0., 0., 1.]])"
      ]
     },
     "execution_count": 14,
     "metadata": {},
     "output_type": "execute_result"
    }
   ],
   "source": [
    "#As an alternative to outputting a specific class, the probability of each class can be predicted, which is the fraction of training samples of the class in a leaf\n",
    "model_trees.predict_proba([[2., 2., 3., 3.]])"
   ]
  },
  {
   "cell_type": "code",
   "execution_count": 15,
   "id": "a009df37",
   "metadata": {},
   "outputs": [
    {
     "data": {
      "image/png": "[encoded data removed]",
      "text/plain": [
       "<Figure size 432x288 with 1 Axes>"
      ]
     },
     "metadata": {
      "needs_background": "light"
     },
     "output_type": "display_data"
    }
   ],
   "source": [
    "from sklearn.tree import plot_tree\n",
    "import matplotlib.pyplot as plt\n",
    "\n",
    "plt.figure()\n",
    "plt.rcParams[\"figure.figsize\"] = (20,20)\n",
    "plot_tree(model_trees, filled=True)\n",
    "plt.title(\"Decision tree trained on all the iris features\")\n",
    "plt.show()"
   ]
  },
  {
   "cell_type": "code",
   "execution_count": 16,
   "id": "02bfe877",
   "metadata": {},
   "outputs": [],
   "source": [
    "#AVALIAÇÃO com HIPERPARÂMETRO\n",
    "\n",
    "#https://scikit-learn.org/stable/modules/grid_search.html#grid-search\n",
    "#When specifying multiple metrics, the refit parameter must be set to the metric (string) for which \n",
    "#the best_params_ will be found and used to build the best_estimator_ on the whole dataset. \n",
    "#If the search should not be refit, set refit=False. Leaving refit to the default value None will \n",
    "#result in an error when using multiple metrics.\n",
    "\n",
    "#https://scikit-learn.org/stable/modules/cross_validation.html#cross-validation\n",
    "#vide figura\n",
    "\n",
    "#https://scikit-learn.org/stable/auto_examples/model_selection/plot_grid_search_digits.html\n",
    "#https://scikit-learn.org/stable/auto_examples/model_selection/plot_multi_metric_evaluation.html#sphx-glr-auto-examples-model-selection-plot-multi-metric-evaluation-py"
   ]
  },
  {
   "cell_type": "code",
   "execution_count": 17,
   "id": "6fc864ad",
   "metadata": {},
   "outputs": [
    {
     "data": {
      "text/plain": [
       "GridSearchCV(cv=3, estimator=DecisionTreeClassifier(random_state=0),\n",
       "             param_grid={'criterion': ['entropy'], 'max_depth': [3, 7, 9]},\n",
       "             scoring='f1_weighted')"
      ]
     },
     "execution_count": 17,
     "metadata": {},
     "output_type": "execute_result"
    }
   ],
   "source": [
    "#https://scikit-learn.org/stable/modules/generated/sklearn.model_selection.GridSearchCV.html\n",
    "from sklearn.model_selection import GridSearchCV\n",
    "\n",
    "param_grid = {'criterion':['entropy'], 'max_depth':[3, 7, 9]}\n",
    "best_tree = GridSearchCV(clf_tree, param_grid, scoring=('f1_weighted'), cv=3, refit=True)\n",
    "best_tree.fit(X, y)\n",
    "#sorted(best_tree.cv_results_.keys())"
   ]
  },
  {
   "cell_type": "code",
   "execution_count": 18,
   "id": "c754c45f",
   "metadata": {},
   "outputs": [
    {
     "data": {
      "text/html": [
       "<div>\n",
       "<style scoped>\n",
       "    .dataframe tbody tr th:only-of-type {\n",
       "        vertical-align: middle;\n",
       "    }\n",
       "\n",
       "    .dataframe tbody tr th {\n",
       "        vertical-align: top;\n",
       "    }\n",
       "\n",
       "    .dataframe thead th {\n",
       "        text-align: right;\n",
       "    }\n",
       "</style>\n",
       "<table border=\"1\" class=\"dataframe\">\n",
       "  <thead>\n",
       "    <tr style=\"text-align: right;\">\n",
       "      <th></th>\n",
       "      <th>mean_fit_time</th>\n",
       "      <th>std_fit_time</th>\n",
       "      <th>mean_score_time</th>\n",
       "      <th>std_score_time</th>\n",
       "      <th>param_criterion</th>\n",
       "      <th>param_max_depth</th>\n",
       "      <th>params</th>\n",
       "      <th>split0_test_score</th>\n",
       "      <th>split1_test_score</th>\n",
       "      <th>split2_test_score</th>\n",
       "      <th>mean_test_score</th>\n",
       "      <th>std_test_score</th>\n",
       "      <th>rank_test_score</th>\n",
       "    </tr>\n",
       "  </thead>\n",
       "  <tbody>\n",
       "    <tr>\n",
       "      <th>0</th>\n",
       "      <td>0.001436</td>\n",
       "      <td>0.000217</td>\n",
       "      <td>0.002053</td>\n",
       "      <td>0.000437</td>\n",
       "      <td>entropy</td>\n",
       "      <td>3</td>\n",
       "      <td>{'criterion': 'entropy', 'max_depth': 3}</td>\n",
       "      <td>0.960000</td>\n",
       "      <td>0.939889</td>\n",
       "      <td>0.959861</td>\n",
       "      <td>0.953250</td>\n",
       "      <td>0.009448</td>\n",
       "      <td>1</td>\n",
       "    </tr>\n",
       "    <tr>\n",
       "      <th>1</th>\n",
       "      <td>0.000910</td>\n",
       "      <td>0.000044</td>\n",
       "      <td>0.001163</td>\n",
       "      <td>0.000195</td>\n",
       "      <td>entropy</td>\n",
       "      <td>7</td>\n",
       "      <td>{'criterion': 'entropy', 'max_depth': 7}</td>\n",
       "      <td>0.959778</td>\n",
       "      <td>0.939889</td>\n",
       "      <td>0.960000</td>\n",
       "      <td>0.953222</td>\n",
       "      <td>0.009428</td>\n",
       "      <td>2</td>\n",
       "    </tr>\n",
       "    <tr>\n",
       "      <th>2</th>\n",
       "      <td>0.000852</td>\n",
       "      <td>0.000068</td>\n",
       "      <td>0.001049</td>\n",
       "      <td>0.000374</td>\n",
       "      <td>entropy</td>\n",
       "      <td>9</td>\n",
       "      <td>{'criterion': 'entropy', 'max_depth': 9}</td>\n",
       "      <td>0.959778</td>\n",
       "      <td>0.939889</td>\n",
       "      <td>0.960000</td>\n",
       "      <td>0.953222</td>\n",
       "      <td>0.009428</td>\n",
       "      <td>2</td>\n",
       "    </tr>\n",
       "  </tbody>\n",
       "</table>\n",
       "</div>"
      ],
      "text/plain": [
       "   mean_fit_time  std_fit_time  mean_score_time  std_score_time  \\\n",
       "0       0.001436      0.000217         0.002053        0.000437   \n",
       "1       0.000910      0.000044         0.001163        0.000195   \n",
       "2       0.000852      0.000068         0.001049        0.000374   \n",
       "\n",
       "  param_criterion param_max_depth                                    params  \\\n",
       "0         entropy               3  {'criterion': 'entropy', 'max_depth': 3}   \n",
       "1         entropy               7  {'criterion': 'entropy', 'max_depth': 7}   \n",
       "2         entropy               9  {'criterion': 'entropy', 'max_depth': 9}   \n",
       "\n",
       "   split0_test_score  split1_test_score  split2_test_score  mean_test_score  \\\n",
       "0           0.960000           0.939889           0.959861         0.953250   \n",
       "1           0.959778           0.939889           0.960000         0.953222   \n",
       "2           0.959778           0.939889           0.960000         0.953222   \n",
       "\n",
       "   std_test_score  rank_test_score  \n",
       "0        0.009448                1  \n",
       "1        0.009428                2  \n",
       "2        0.009428                2  "
      ]
     },
     "execution_count": 18,
     "metadata": {},
     "output_type": "execute_result"
    }
   ],
   "source": [
    "import pandas as pd\n",
    "\n",
    "df = pd.DataFrame(best_tree.cv_results_)\n",
    "df"
   ]
  },
  {
   "cell_type": "code",
   "execution_count": 19,
   "id": "6066e02c",
   "metadata": {},
   "outputs": [
    {
     "data": {
      "text/html": [
       "<div>\n",
       "<style scoped>\n",
       "    .dataframe tbody tr th:only-of-type {\n",
       "        vertical-align: middle;\n",
       "    }\n",
       "\n",
       "    .dataframe tbody tr th {\n",
       "        vertical-align: top;\n",
       "    }\n",
       "\n",
       "    .dataframe thead th {\n",
       "        text-align: right;\n",
       "    }\n",
       "</style>\n",
       "<table border=\"1\" class=\"dataframe\">\n",
       "  <thead>\n",
       "    <tr style=\"text-align: right;\">\n",
       "      <th></th>\n",
       "      <th>mean_fit_time</th>\n",
       "      <th>std_fit_time</th>\n",
       "      <th>mean_score_time</th>\n",
       "      <th>std_score_time</th>\n",
       "      <th>param_criterion</th>\n",
       "      <th>param_max_depth</th>\n",
       "      <th>params</th>\n",
       "      <th>split0_test_score</th>\n",
       "      <th>split1_test_score</th>\n",
       "      <th>split2_test_score</th>\n",
       "      <th>mean_test_score</th>\n",
       "      <th>std_test_score</th>\n",
       "      <th>rank_test_score</th>\n",
       "    </tr>\n",
       "  </thead>\n",
       "  <tbody>\n",
       "    <tr>\n",
       "      <th>0</th>\n",
       "      <td>0.001436</td>\n",
       "      <td>0.000217</td>\n",
       "      <td>0.002053</td>\n",
       "      <td>0.000437</td>\n",
       "      <td>entropy</td>\n",
       "      <td>3</td>\n",
       "      <td>{'criterion': 'entropy', 'max_depth': 3}</td>\n",
       "      <td>0.960000</td>\n",
       "      <td>0.939889</td>\n",
       "      <td>0.959861</td>\n",
       "      <td>0.953250</td>\n",
       "      <td>0.009448</td>\n",
       "      <td>1</td>\n",
       "    </tr>\n",
       "    <tr>\n",
       "      <th>1</th>\n",
       "      <td>0.000910</td>\n",
       "      <td>0.000044</td>\n",
       "      <td>0.001163</td>\n",
       "      <td>0.000195</td>\n",
       "      <td>entropy</td>\n",
       "      <td>7</td>\n",
       "      <td>{'criterion': 'entropy', 'max_depth': 7}</td>\n",
       "      <td>0.959778</td>\n",
       "      <td>0.939889</td>\n",
       "      <td>0.960000</td>\n",
       "      <td>0.953222</td>\n",
       "      <td>0.009428</td>\n",
       "      <td>2</td>\n",
       "    </tr>\n",
       "    <tr>\n",
       "      <th>2</th>\n",
       "      <td>0.000852</td>\n",
       "      <td>0.000068</td>\n",
       "      <td>0.001049</td>\n",
       "      <td>0.000374</td>\n",
       "      <td>entropy</td>\n",
       "      <td>9</td>\n",
       "      <td>{'criterion': 'entropy', 'max_depth': 9}</td>\n",
       "      <td>0.959778</td>\n",
       "      <td>0.939889</td>\n",
       "      <td>0.960000</td>\n",
       "      <td>0.953222</td>\n",
       "      <td>0.009428</td>\n",
       "      <td>2</td>\n",
       "    </tr>\n",
       "  </tbody>\n",
       "</table>\n",
       "</div>"
      ],
      "text/plain": [
       "   mean_fit_time  std_fit_time  mean_score_time  std_score_time  \\\n",
       "0       0.001436      0.000217         0.002053        0.000437   \n",
       "1       0.000910      0.000044         0.001163        0.000195   \n",
       "2       0.000852      0.000068         0.001049        0.000374   \n",
       "\n",
       "  param_criterion param_max_depth                                    params  \\\n",
       "0         entropy               3  {'criterion': 'entropy', 'max_depth': 3}   \n",
       "1         entropy               7  {'criterion': 'entropy', 'max_depth': 7}   \n",
       "2         entropy               9  {'criterion': 'entropy', 'max_depth': 9}   \n",
       "\n",
       "   split0_test_score  split1_test_score  split2_test_score  mean_test_score  \\\n",
       "0           0.960000           0.939889           0.959861         0.953250   \n",
       "1           0.959778           0.939889           0.960000         0.953222   \n",
       "2           0.959778           0.939889           0.960000         0.953222   \n",
       "\n",
       "   std_test_score  rank_test_score  \n",
       "0        0.009448                1  \n",
       "1        0.009428                2  \n",
       "2        0.009428                2  "
      ]
     },
     "execution_count": 19,
     "metadata": {},
     "output_type": "execute_result"
    }
   ],
   "source": [
    "best_model = best_tree.best_estimator_\n",
    "best_model.fit(X, y)\n",
    "\n",
    "df = pd.DataFrame(best_tree.cv_results_)\n",
    "df"
   ]
  },
  {
   "cell_type": "code",
   "execution_count": 20,
   "id": "3516e73e",
   "metadata": {},
   "outputs": [
    {
     "name": "stdout",
     "output_type": "stream",
     "text": [
      "[0.95325017 0.95322239 0.95322239]\n",
      "DecisionTreeClassifier(criterion='entropy', max_depth=3, random_state=0)\n",
      "{'criterion': 'entropy', 'max_depth': 3}\n",
      "0.95325017067759\n"
     ]
    }
   ],
   "source": [
    "print(best_tree.cv_results_['mean_test_score'])\n",
    "print(best_tree.best_estimator_)\n",
    "print(best_tree.best_params_)\n",
    "print(best_tree.best_score_)"
   ]
  },
  {
   "cell_type": "code",
   "execution_count": 21,
   "id": "70c6c934",
   "metadata": {},
   "outputs": [],
   "source": [
    "#################################################\n",
    "##exemplo completo - seleção e avaliação no teste\n",
    "#################################################"
   ]
  },
  {
   "cell_type": "code",
   "execution_count": 22,
   "id": "9b141d89",
   "metadata": {},
   "outputs": [
    {
     "data": {
      "text/plain": [
       "GridSearchCV(cv=3, estimator=DecisionTreeClassifier(random_state=0),\n",
       "             param_grid={'criterion': ['entropy'], 'max_depth': [3, 7, 9]},\n",
       "             scoring='f1_weighted')"
      ]
     },
     "execution_count": 22,
     "metadata": {},
     "output_type": "execute_result"
    }
   ],
   "source": [
    "from sklearn.model_selection import train_test_split\n",
    "\n",
    "X_train, X_test, y_train, y_test = train_test_split(X, y, test_size=0.3, random_state=0)\n",
    "\n",
    "param_grid = {'criterion':['entropy'], 'max_depth':[3, 7, 9]}\n",
    "best_tree = GridSearchCV(clf_tree, param_grid, scoring=('f1_weighted'), cv=3)\n",
    "best_tree.fit(X_train, y_train)"
   ]
  },
  {
   "cell_type": "code",
   "execution_count": 23,
   "id": "5716d932",
   "metadata": {},
   "outputs": [
    {
     "data": {
      "text/html": [
       "<div>\n",
       "<style scoped>\n",
       "    .dataframe tbody tr th:only-of-type {\n",
       "        vertical-align: middle;\n",
       "    }\n",
       "\n",
       "    .dataframe tbody tr th {\n",
       "        vertical-align: top;\n",
       "    }\n",
       "\n",
       "    .dataframe thead th {\n",
       "        text-align: right;\n",
       "    }\n",
       "</style>\n",
       "<table border=\"1\" class=\"dataframe\">\n",
       "  <thead>\n",
       "    <tr style=\"text-align: right;\">\n",
       "      <th></th>\n",
       "      <th>mean_fit_time</th>\n",
       "      <th>std_fit_time</th>\n",
       "      <th>mean_score_time</th>\n",
       "      <th>std_score_time</th>\n",
       "      <th>param_criterion</th>\n",
       "      <th>param_max_depth</th>\n",
       "      <th>params</th>\n",
       "      <th>split0_test_score</th>\n",
       "      <th>split1_test_score</th>\n",
       "      <th>split2_test_score</th>\n",
       "      <th>mean_test_score</th>\n",
       "      <th>std_test_score</th>\n",
       "      <th>rank_test_score</th>\n",
       "    </tr>\n",
       "  </thead>\n",
       "  <tbody>\n",
       "    <tr>\n",
       "      <th>0</th>\n",
       "      <td>0.001649</td>\n",
       "      <td>0.000467</td>\n",
       "      <td>0.001633</td>\n",
       "      <td>0.000073</td>\n",
       "      <td>entropy</td>\n",
       "      <td>3</td>\n",
       "      <td>{'criterion': 'entropy', 'max_depth': 3}</td>\n",
       "      <td>0.942857</td>\n",
       "      <td>0.971478</td>\n",
       "      <td>0.941723</td>\n",
       "      <td>0.952020</td>\n",
       "      <td>0.013767</td>\n",
       "      <td>3</td>\n",
       "    </tr>\n",
       "    <tr>\n",
       "      <th>1</th>\n",
       "      <td>0.001389</td>\n",
       "      <td>0.000313</td>\n",
       "      <td>0.001908</td>\n",
       "      <td>0.000288</td>\n",
       "      <td>entropy</td>\n",
       "      <td>7</td>\n",
       "      <td>{'criterion': 'entropy', 'max_depth': 7}</td>\n",
       "      <td>0.942857</td>\n",
       "      <td>1.000000</td>\n",
       "      <td>0.941723</td>\n",
       "      <td>0.961527</td>\n",
       "      <td>0.027209</td>\n",
       "      <td>1</td>\n",
       "    </tr>\n",
       "    <tr>\n",
       "      <th>2</th>\n",
       "      <td>0.001575</td>\n",
       "      <td>0.000132</td>\n",
       "      <td>0.002100</td>\n",
       "      <td>0.000455</td>\n",
       "      <td>entropy</td>\n",
       "      <td>9</td>\n",
       "      <td>{'criterion': 'entropy', 'max_depth': 9}</td>\n",
       "      <td>0.942857</td>\n",
       "      <td>1.000000</td>\n",
       "      <td>0.941723</td>\n",
       "      <td>0.961527</td>\n",
       "      <td>0.027209</td>\n",
       "      <td>1</td>\n",
       "    </tr>\n",
       "  </tbody>\n",
       "</table>\n",
       "</div>"
      ],
      "text/plain": [
       "   mean_fit_time  std_fit_time  mean_score_time  std_score_time  \\\n",
       "0       0.001649      0.000467         0.001633        0.000073   \n",
       "1       0.001389      0.000313         0.001908        0.000288   \n",
       "2       0.001575      0.000132         0.002100        0.000455   \n",
       "\n",
       "  param_criterion param_max_depth                                    params  \\\n",
       "0         entropy               3  {'criterion': 'entropy', 'max_depth': 3}   \n",
       "1         entropy               7  {'criterion': 'entropy', 'max_depth': 7}   \n",
       "2         entropy               9  {'criterion': 'entropy', 'max_depth': 9}   \n",
       "\n",
       "   split0_test_score  split1_test_score  split2_test_score  mean_test_score  \\\n",
       "0           0.942857           0.971478           0.941723         0.952020   \n",
       "1           0.942857           1.000000           0.941723         0.961527   \n",
       "2           0.942857           1.000000           0.941723         0.961527   \n",
       "\n",
       "   std_test_score  rank_test_score  \n",
       "0        0.013767                3  \n",
       "1        0.027209                1  \n",
       "2        0.027209                1  "
      ]
     },
     "execution_count": 23,
     "metadata": {},
     "output_type": "execute_result"
    }
   ],
   "source": [
    "df = pd.DataFrame(best_tree.cv_results_)\n",
    "df"
   ]
  },
  {
   "cell_type": "code",
   "execution_count": 24,
   "id": "9f48a689",
   "metadata": {},
   "outputs": [
    {
     "name": "stdout",
     "output_type": "stream",
     "text": [
      "[0.95201959 0.96152683 0.96152683]\n",
      "DecisionTreeClassifier(criterion='entropy', max_depth=7, random_state=0)\n",
      "{'criterion': 'entropy', 'max_depth': 7}\n",
      "0.9615268329554043\n"
     ]
    }
   ],
   "source": [
    "print(best_tree.cv_results_['mean_test_score'])\n",
    "print(best_tree.best_estimator_)\n",
    "print(best_tree.best_params_)\n",
    "print(best_tree.best_score_)"
   ]
  },
  {
   "cell_type": "code",
   "execution_count": 25,
   "id": "696fd2ef",
   "metadata": {},
   "outputs": [
    {
     "name": "stdout",
     "output_type": "stream",
     "text": [
      "              precision    recall  f1-score   support\n",
      "\n",
      "           0       1.00      1.00      1.00        16\n",
      "           1       1.00      0.94      0.97        18\n",
      "           2       0.92      1.00      0.96        11\n",
      "\n",
      "    accuracy                           0.98        45\n",
      "   macro avg       0.97      0.98      0.98        45\n",
      "weighted avg       0.98      0.98      0.98        45\n",
      "\n"
     ]
    }
   ],
   "source": [
    "from sklearn.metrics import classification_report\n",
    "\n",
    "y_true, y_pred = y_test, best_tree.predict(X_test)\n",
    "print(classification_report(y_true, y_pred))\n",
    "\n",
    "#f1_score(y_true, y_pred, average='weighted')"
   ]
  },
  {
   "cell_type": "code",
   "execution_count": 26,
   "id": "f1631399",
   "metadata": {},
   "outputs": [
    {
     "data": {
      "text/plain": [
       "0.9779434092477569"
      ]
     },
     "execution_count": 26,
     "metadata": {},
     "output_type": "execute_result"
    }
   ],
   "source": [
    "#https://scikit-learn.org/stable/modules/classes.html#module-sklearn.metrics\n",
    "#https://scikit-learn.org/stable/modules/generated/sklearn.metrics.f1_score.html#sklearn.metrics.f1_score\n",
    "\n",
    "from sklearn.metrics import f1_score\n",
    "f1_score(y_true, y_pred, average='weighted')"
   ]
  },
  {
   "cell_type": "code",
   "execution_count": 27,
   "id": "81d7bde7",
   "metadata": {},
   "outputs": [],
   "source": [
    "#Para um exemplo de Nested Cross-Validation veja \n",
    "#https://machinelearningmastery.com/nested-cross-validation-for-machine-learning-with-python/\n",
    "#https://scikit-learn.org/stable/auto_examples/model_selection/plot_nested_cross_validation_iris.html"
   ]
  },
  {
   "cell_type": "markdown",
   "id": "16230d43",
   "metadata": {},
   "source": [
    "## k-NN"
   ]
  },
  {
   "cell_type": "code",
   "execution_count": 28,
   "id": "3f753840",
   "metadata": {},
   "outputs": [],
   "source": [
    "#https://scikit-learn.org/stable/modules/neighbors.html#neighbors\n",
    "#https://scikit-learn.org/stable/modules/generated/sklearn.neighbors.KNeighborsClassifier.html#sklearn.neighbors.KNeighborsClassifier\n"
   ]
  },
  {
   "cell_type": "code",
   "execution_count": 29,
   "id": "6b1089ce",
   "metadata": {},
   "outputs": [
    {
     "data": {
      "text/plain": [
       "array([0.97996313, 0.95977778, 0.97998268])"
      ]
     },
     "execution_count": 29,
     "metadata": {},
     "output_type": "execute_result"
    }
   ],
   "source": [
    "from sklearn.neighbors import KNeighborsClassifier\n",
    "\n",
    "clf_knn = KNeighborsClassifier(n_neighbors=3)\n",
    "clf_knn.fit(X, y)\n",
    "\n",
    "scores = cross_val_score(clf_knn, X, y, cv=3, scoring='f1_weighted')\n",
    "scores"
   ]
  },
  {
   "cell_type": "code",
   "execution_count": 30,
   "id": "1044ff04",
   "metadata": {},
   "outputs": [],
   "source": [
    "results[\"knn\"] = np.mean(scores)"
   ]
  },
  {
   "cell_type": "code",
   "execution_count": 31,
   "id": "c5212c6f",
   "metadata": {},
   "outputs": [
    {
     "data": {
      "text/plain": [
       "array([1])"
      ]
     },
     "execution_count": 31,
     "metadata": {},
     "output_type": "execute_result"
    }
   ],
   "source": [
    "clf_knn.predict([[2., 2., 3., 3.]])"
   ]
  },
  {
   "cell_type": "markdown",
   "id": "798a6aa2",
   "metadata": {},
   "source": [
    "## Naive Bayes"
   ]
  },
  {
   "cell_type": "code",
   "execution_count": 32,
   "id": "92800341",
   "metadata": {},
   "outputs": [],
   "source": [
    "#https://scikit-learn.org/stable/modules/naive_bayes.html\n",
    "#https://scikit-learn.org/stable/modules/generated/sklearn.naive_bayes.GaussianNB.html#sklearn.naive_bayes.GaussianNB\n",
    "\n",
    "#https://towardsdatascience.com/how-i-was-using-naive-bayes-incorrectly-till-now-part-1-4ed2a7e2212b\n",
    "#GaussianNB → When you have continuous features\n",
    "#CategoricalNB →When you have categorical data\n",
    "#MultinomialNB → Applied to text data"
   ]
  },
  {
   "cell_type": "code",
   "execution_count": 33,
   "id": "23334c28",
   "metadata": {},
   "outputs": [
    {
     "data": {
      "text/plain": [
       "array([0.91985294, 0.9398894 , 0.95986111])"
      ]
     },
     "execution_count": 33,
     "metadata": {},
     "output_type": "execute_result"
    }
   ],
   "source": [
    "from sklearn.naive_bayes import GaussianNB\n",
    "\n",
    "clf_nb = GaussianNB()\n",
    "clf_nb.fit(X, y)\n",
    "\n",
    "scores = cross_val_score(clf_nb, X, y, cv=3, scoring='f1_weighted')\n",
    "scores"
   ]
  },
  {
   "cell_type": "code",
   "execution_count": 34,
   "id": "daf7df7d",
   "metadata": {},
   "outputs": [],
   "source": [
    "results[\"nb\"] = np.mean(scores)"
   ]
  },
  {
   "cell_type": "code",
   "execution_count": 35,
   "id": "68fd472a",
   "metadata": {},
   "outputs": [
    {
     "data": {
      "text/plain": [
       "array([2])"
      ]
     },
     "execution_count": 35,
     "metadata": {},
     "output_type": "execute_result"
    }
   ],
   "source": [
    "clf_nb.predict([[2., 2., 3., 3.]])"
   ]
  },
  {
   "cell_type": "markdown",
   "id": "58e650e5",
   "metadata": {},
   "source": [
    "## SVM"
   ]
  },
  {
   "cell_type": "code",
   "execution_count": 36,
   "id": "a1455849",
   "metadata": {},
   "outputs": [],
   "source": [
    "#https://scikit-learn.org/stable/modules/svm.html#svm\n",
    "#SVC and NuSVC implement the “one-versus-one” approach for multi-class classification.\n",
    "#https://scikit-learn.org/stable/modules/generated/sklearn.svm.SVC.html#sklearn.svm.SVC"
   ]
  },
  {
   "cell_type": "code",
   "execution_count": 37,
   "id": "666c5632",
   "metadata": {},
   "outputs": [
    {
     "data": {
      "text/plain": [
       "array([0.96      , 0.97996313, 0.93994805])"
      ]
     },
     "execution_count": 37,
     "metadata": {},
     "output_type": "execute_result"
    }
   ],
   "source": [
    "from sklearn.svm import SVC\n",
    "\n",
    "clf_svm = SVC()\n",
    "clf_svm.fit(X, y)\n",
    "\n",
    "scores = cross_val_score(clf_svm, X, y, cv=3, scoring='f1_weighted')\n",
    "scores"
   ]
  },
  {
   "cell_type": "code",
   "execution_count": 38,
   "id": "4560f340",
   "metadata": {},
   "outputs": [],
   "source": [
    "results[\"svm\"] = np.mean(scores)"
   ]
  },
  {
   "cell_type": "code",
   "execution_count": 39,
   "id": "8795d944",
   "metadata": {},
   "outputs": [
    {
     "data": {
      "text/plain": [
       "array([2])"
      ]
     },
     "execution_count": 39,
     "metadata": {},
     "output_type": "execute_result"
    }
   ],
   "source": [
    "clf_svm.predict([[2., 2., 3., 3.]])"
   ]
  },
  {
   "cell_type": "code",
   "execution_count": 40,
   "id": "b955c730",
   "metadata": {},
   "outputs": [
    {
     "name": "stdout",
     "output_type": "stream",
     "text": [
      "[[5.7 3.8 1.7 0.3]\n",
      " [5.4 3.4 1.7 0.2]\n",
      " [5.1 3.3 1.7 0.5]\n",
      " [4.8 3.4 1.9 0.2]\n",
      " [5.  3.  1.6 0.2]\n",
      " [4.5 2.3 1.3 0.3]\n",
      " [5.1 3.8 1.9 0.4]\n",
      " [7.  3.2 4.7 1.4]\n",
      " [6.4 3.2 4.5 1.5]\n",
      " [6.9 3.1 4.9 1.5]\n",
      " [6.5 2.8 4.6 1.5]\n",
      " [5.7 2.8 4.5 1.3]\n",
      " [6.3 3.3 4.7 1.6]\n",
      " [4.9 2.4 3.3 1. ]\n",
      " [6.6 2.9 4.6 1.3]\n",
      " [6.1 2.9 4.7 1.4]\n",
      " [5.6 2.9 3.6 1.3]\n",
      " [5.6 3.  4.5 1.5]\n",
      " [6.2 2.2 4.5 1.5]\n",
      " [5.9 3.2 4.8 1.8]\n",
      " [6.3 2.5 4.9 1.5]\n",
      " [6.1 2.8 4.7 1.2]\n",
      " [6.6 3.  4.4 1.4]\n",
      " [6.8 2.8 4.8 1.4]\n",
      " [6.7 3.  5.  1.7]\n",
      " [6.  2.9 4.5 1.5]\n",
      " [5.7 2.6 3.5 1. ]\n",
      " [6.  2.7 5.1 1.6]\n",
      " [5.4 3.  4.5 1.5]\n",
      " [6.  3.4 4.5 1.6]\n",
      " [6.7 3.1 4.7 1.5]\n",
      " [6.3 2.3 4.4 1.3]\n",
      " [5.5 2.6 4.4 1.2]\n",
      " [6.1 3.  4.6 1.4]\n",
      " [5.  2.3 3.3 1. ]\n",
      " [5.1 2.5 3.  1.1]\n",
      " [5.8 2.7 5.1 1.9]\n",
      " [4.9 2.5 4.5 1.7]\n",
      " [6.5 3.2 5.1 2. ]\n",
      " [6.4 2.7 5.3 1.9]\n",
      " [5.7 2.5 5.  2. ]\n",
      " [6.5 3.  5.5 1.8]\n",
      " [6.  2.2 5.  1.5]\n",
      " [5.6 2.8 4.9 2. ]\n",
      " [6.3 2.7 4.9 1.8]\n",
      " [6.2 2.8 4.8 1.8]\n",
      " [6.1 3.  4.9 1.8]\n",
      " [7.2 3.  5.8 1.6]\n",
      " [7.9 3.8 6.4 2. ]\n",
      " [6.3 2.8 5.1 1.5]\n",
      " [6.1 2.6 5.6 1.4]\n",
      " [6.4 3.1 5.5 1.8]\n",
      " [6.  3.  4.8 1.8]\n",
      " [6.9 3.1 5.4 2.1]\n",
      " [6.9 3.1 5.1 2.3]\n",
      " [5.8 2.7 5.1 1.9]\n",
      " [6.7 3.  5.2 2.3]\n",
      " [6.3 2.5 5.  1.9]\n",
      " [6.5 3.  5.2 2. ]\n",
      " [5.9 3.  5.1 1.8]]\n",
      "[ 18  20  23  24  25  41  44  50  51  52  54  55  56  57  58  63  64  66\n",
      "  68  70  72  73  75  76  77  78  79  83  84  85  86  87  90  91  93  98\n",
      " 101 106 110 111 113 116 119 121 123 126 127 129 131 133 134 137 138 139\n",
      " 141 142 145 146 147 149]\n",
      "[ 7 29 24]\n"
     ]
    }
   ],
   "source": [
    "# get support vectors\n",
    "print(clf_svm.support_vectors_)\n",
    "\n",
    "# get indices of support vectors\n",
    "print(clf_svm.support_)\n",
    "\n",
    "# get number of support vectors for each class\n",
    "print(clf_svm.n_support_)"
   ]
  },
  {
   "cell_type": "markdown",
   "id": "cf10c6c4",
   "metadata": {},
   "source": [
    "## RNA"
   ]
  },
  {
   "cell_type": "code",
   "execution_count": 41,
   "id": "44d8a2e4",
   "metadata": {},
   "outputs": [],
   "source": [
    "#https://scikit-learn.org/stable/modules/neural_networks_supervised.html#neural-networks-supervised\n",
    "#https://scikit-learn.org/stable/modules/generated/sklearn.neural_network.MLPClassifier.html#sklearn.neural_network.MLPClassifier\n"
   ]
  },
  {
   "cell_type": "code",
   "execution_count": 42,
   "id": "836ece84",
   "metadata": {},
   "outputs": [],
   "source": [
    "#Class MLPClassifier implements a multi-layer perceptron (MLP) algorithm that trains using Backpropagation.\n",
    "#Currently, MLPClassifier supports only the Cross-Entropy loss function, which allows probability estimates by running the predict_proba method.\n",
    "#MLP trains using Backpropagation. More precisely, it trains using some form of gradient descent and the gradients are calculated using Backpropagation.\n",
    "#MLPClassifier supports multi-class classification by applying Softmax as the output function.\n"
   ]
  },
  {
   "cell_type": "code",
   "execution_count": 43,
   "id": "3461dbe6",
   "metadata": {},
   "outputs": [
    {
     "data": {
      "text/plain": [
       "array([1.        , 0.95977778, 0.96      ])"
      ]
     },
     "execution_count": 43,
     "metadata": {},
     "output_type": "execute_result"
    }
   ],
   "source": [
    "from sklearn.neural_network import MLPClassifier\n",
    "\n",
    "#3 camadas intermediárias, uma com 50, a outra com 30 e a outra com 20\n",
    "clf_mlp = MLPClassifier(hidden_layer_sizes=(50, 30, 20), max_iter=500, random_state=0)\n",
    "clf_mlp.fit(X, y)\n",
    "\n",
    "scores = cross_val_score(clf_mlp, X, y, cv=3, scoring='f1_weighted')\n",
    "scores"
   ]
  },
  {
   "cell_type": "code",
   "execution_count": 44,
   "id": "1b43da6b",
   "metadata": {},
   "outputs": [],
   "source": [
    "results[\"ann\"] = np.mean(scores)"
   ]
  },
  {
   "cell_type": "code",
   "execution_count": 45,
   "id": "fcfb68a6",
   "metadata": {},
   "outputs": [
    {
     "data": {
      "text/plain": [
       "array([2])"
      ]
     },
     "execution_count": 45,
     "metadata": {},
     "output_type": "execute_result"
    }
   ],
   "source": [
    "clf_mlp.predict([[2., 2., 3., 3.]])"
   ]
  },
  {
   "cell_type": "markdown",
   "id": "d7c61f36",
   "metadata": {},
   "source": [
    "## Ensemble"
   ]
  },
  {
   "cell_type": "code",
   "execution_count": 46,
   "id": "243d39be",
   "metadata": {},
   "outputs": [],
   "source": [
    "#https://scikit-learn.org/stable/modules/ensemble.html#ensemble\n",
    "#https://scikit-learn.org/stable/modules/generated/sklearn.ensemble.AdaBoostClassifier.html#sklearn.ensemble.AdaBoostClassifier\n",
    "#https://scikit-learn.org/stable/modules/generated/sklearn.ensemble.BaggingClassifier.html#sklearn.ensemble.BaggingClassifier\n",
    "#https://scikit-learn.org/stable/modules/generated/sklearn.ensemble.RandomForestClassifier.html#sklearn.ensemble.RandomForestClassifier\n"
   ]
  },
  {
   "cell_type": "code",
   "execution_count": 47,
   "id": "6f5c0466",
   "metadata": {},
   "outputs": [
    {
     "data": {
      "text/plain": [
       "array([0.97996313, 0.92      , 0.95986111])"
      ]
     },
     "execution_count": 47,
     "metadata": {},
     "output_type": "execute_result"
    }
   ],
   "source": [
    "from sklearn.ensemble import AdaBoostClassifier\n",
    "\n",
    "clf_AdaB = AdaBoostClassifier()\n",
    "clf_AdaB.fit(X, y)\n",
    "\n",
    "scores = cross_val_score(clf_AdaB, X, y, cv=3, scoring='f1_weighted')\n",
    "scores"
   ]
  },
  {
   "cell_type": "code",
   "execution_count": 48,
   "id": "a1706561",
   "metadata": {},
   "outputs": [],
   "source": [
    "results[\"AdaB\"] = np.mean(scores)"
   ]
  },
  {
   "cell_type": "code",
   "execution_count": 49,
   "id": "ba8e008d",
   "metadata": {},
   "outputs": [
    {
     "data": {
      "text/plain": [
       "array([2])"
      ]
     },
     "execution_count": 49,
     "metadata": {},
     "output_type": "execute_result"
    }
   ],
   "source": [
    "clf_AdaB.predict([[2., 2., 3., 3.]])"
   ]
  },
  {
   "cell_type": "markdown",
   "id": "fa94d8e3",
   "metadata": {},
   "source": [
    "## Final Results"
   ]
  },
  {
   "cell_type": "code",
   "execution_count": 51,
   "id": "eb3f9516",
   "metadata": {},
   "outputs": [
    {
     "name": "stdout",
     "output_type": "stream",
     "text": [
      "tree 0.9666117395149653\n",
      "knn 0.9732411984670049\n",
      "nb 0.9398678177364136\n",
      "svm 0.9599703951962016\n",
      "ann 0.9732592592592592\n",
      "AdaB 0.9532747482505547\n"
     ]
    }
   ],
   "source": [
    "for key, value in results.items():\n",
    "    print(key, value)"
   ]
  }
 ],
 "metadata": {
  "interpreter": {
   "hash": "7a3d88c904243d2c3f246166597f86d1c0a39f3d97496d1fe394945d0c6d436d"
  },
  "kernelspec": {
   "display_name": "Python 3.7.10 64-bit",
   "language": "python",
   "name": "python3"
  },
  "language_info": {
   "codemirror_mode": {
    "name": "ipython",
    "version": 3
   },
   "file_extension": ".py",
   "mimetype": "text/x-python",
   "name": "python",
   "nbconvert_exporter": "python",
   "pygments_lexer": "ipython3",
   "version": "3.7.13"
  }
 },
 "nbformat": 4,
 "nbformat_minor": 5
}
